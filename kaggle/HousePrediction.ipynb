{
  "nbformat": 4,
  "nbformat_minor": 0,
  "metadata": {
    "colab": {
      "provenance": [],
      "authorship_tag": "ABX9TyPYuEFDnRI2XE6FJJ2tuFWY"
    },
    "kernelspec": {
      "name": "python3",
      "display_name": "Python 3"
    },
    "language_info": {
      "name": "python"
    }
  },
  "cells": [
    {
      "cell_type": "markdown",
      "source": [
        "### Add Imports"
      ],
      "metadata": {
        "id": "Fb-MSCDkOYQ-"
      }
    },
    {
      "cell_type": "code",
      "source": [
        "import numpy as np\n",
        "import copy\n",
        "import matplotlib.pyplot as plt\n",
        "import sklearn\n",
        "import sklearn.datasets\n",
        "import sklearn.linear_model\n",
        "import pandas as pd\n",
        "\n",
        "%matplotlib inline\n",
        "\n",
        "%load_ext autoreload\n",
        "%autoreload 2"
      ],
      "metadata": {
        "colab": {
          "base_uri": "https://localhost:8080/"
        },
        "id": "iHLhJwHZOZtG",
        "outputId": "c1ad4ddf-3486-498a-a5cb-3a89026f9601"
      },
      "execution_count": 3,
      "outputs": [
        {
          "output_type": "stream",
          "name": "stdout",
          "text": [
            "The autoreload extension is already loaded. To reload it, use:\n",
            "  %reload_ext autoreload\n"
          ]
        }
      ]
    },
    {
      "cell_type": "markdown",
      "source": [
        "### Read dataset and print the shapes"
      ],
      "metadata": {
        "id": "x9ae3KsfOemE"
      }
    },
    {
      "cell_type": "code",
      "source": [
        "df = pd.read_csv('train.csv')\n",
        "\n",
        "feature_names = df.columns\n",
        "X = df.iloc[:, :-1].values\n",
        "Y = df.iloc[:, -1].values"
      ],
      "metadata": {
        "id": "pfU-HUKTRabe"
      },
      "execution_count": 7,
      "outputs": []
    },
    {
      "cell_type": "code",
      "source": [
        "\n",
        "\n",
        "\n",
        "\n",
        "print(\"Feature Names: \")\n",
        "print(feature_names)\n",
        "print(\"Features Matrix (X):\")\n",
        "print(X[:2])\n",
        "print(\"\\nTarget Vector (Y):\")\n",
        "print(Y[:2])"
      ],
      "metadata": {
        "colab": {
          "base_uri": "https://localhost:8080/"
        },
        "id": "uwfPMEg2OxOk",
        "outputId": "1148322e-e491-4ec9-cc44-602c30500671"
      },
      "execution_count": 8,
      "outputs": [
        {
          "output_type": "stream",
          "name": "stdout",
          "text": [
            "Feature Names: \n",
            "Index(['Id', 'MSSubClass', 'MSZoning', 'LotFrontage', 'LotArea', 'Street',\n",
            "       'Alley', 'LotShape', 'LandContour', 'Utilities', 'LotConfig',\n",
            "       'LandSlope', 'Neighborhood', 'Condition1', 'Condition2', 'BldgType',\n",
            "       'HouseStyle', 'OverallQual', 'OverallCond', 'YearBuilt', 'YearRemodAdd',\n",
            "       'RoofStyle', 'RoofMatl', 'Exterior1st', 'Exterior2nd', 'MasVnrType',\n",
            "       'MasVnrArea', 'ExterQual', 'ExterCond', 'Foundation', 'BsmtQual',\n",
            "       'BsmtCond', 'BsmtExposure', 'BsmtFinType1', 'BsmtFinSF1',\n",
            "       'BsmtFinType2', 'BsmtFinSF2', 'BsmtUnfSF', 'TotalBsmtSF', 'Heating',\n",
            "       'HeatingQC', 'CentralAir', 'Electrical', '1stFlrSF', '2ndFlrSF',\n",
            "       'LowQualFinSF', 'GrLivArea', 'BsmtFullBath', 'BsmtHalfBath', 'FullBath',\n",
            "       'HalfBath', 'BedroomAbvGr', 'KitchenAbvGr', 'KitchenQual',\n",
            "       'TotRmsAbvGrd', 'Functional', 'Fireplaces', 'FireplaceQu', 'GarageType',\n",
            "       'GarageYrBlt', 'GarageFinish', 'GarageCars', 'GarageArea', 'GarageQual',\n",
            "       'GarageCond', 'PavedDrive', 'WoodDeckSF', 'OpenPorchSF',\n",
            "       'EnclosedPorch', '3SsnPorch', 'ScreenPorch', 'PoolArea', 'PoolQC',\n",
            "       'Fence', 'MiscFeature', 'MiscVal', 'MoSold', 'YrSold', 'SaleType',\n",
            "       'SaleCondition', 'SalePrice'],\n",
            "      dtype='object')\n",
            "Features Matrix (X):\n",
            "[[1 60 'RL' 65.0 8450 'Pave' nan 'Reg' 'Lvl' 'AllPub' 'Inside' 'Gtl'\n",
            "  'CollgCr' 'Norm' 'Norm' '1Fam' '2Story' 7 5 2003 2003 'Gable' 'CompShg'\n",
            "  'VinylSd' 'VinylSd' 'BrkFace' 196.0 'Gd' 'TA' 'PConc' 'Gd' 'TA' 'No'\n",
            "  'GLQ' 706 'Unf' 0 150 856 'GasA' 'Ex' 'Y' 'SBrkr' 856 854 0 1710 1 0 2\n",
            "  1 3 1 'Gd' 8 'Typ' 0 nan 'Attchd' 2003.0 'RFn' 2 548 'TA' 'TA' 'Y' 0 61\n",
            "  0 0 0 0 nan nan nan 0 2 2008 'WD' 'Normal']\n",
            " [2 20 'RL' 80.0 9600 'Pave' nan 'Reg' 'Lvl' 'AllPub' 'FR2' 'Gtl'\n",
            "  'Veenker' 'Feedr' 'Norm' '1Fam' '1Story' 6 8 1976 1976 'Gable'\n",
            "  'CompShg' 'MetalSd' 'MetalSd' 'None' 0.0 'TA' 'TA' 'CBlock' 'Gd' 'TA'\n",
            "  'Gd' 'ALQ' 978 'Unf' 0 284 1262 'GasA' 'Ex' 'Y' 'SBrkr' 1262 0 0 1262 0\n",
            "  1 2 0 3 1 'TA' 6 'Typ' 1 'TA' 'Attchd' 1976.0 'RFn' 2 460 'TA' 'TA' 'Y'\n",
            "  298 0 0 0 0 0 nan nan nan 0 5 2007 'WD' 'Normal']]\n",
            "\n",
            "Target Vector (Y):\n",
            "[208500 181500]\n"
          ]
        }
      ]
    },
    {
      "cell_type": "markdown",
      "source": [
        "### See features"
      ],
      "metadata": {
        "id": "2JtuGb15OmvX"
      }
    },
    {
      "cell_type": "markdown",
      "source": [
        "##### See Unique values per column"
      ],
      "metadata": {
        "id": "A9fJyyGMS3rS"
      }
    },
    {
      "cell_type": "code",
      "source": [
        "def create_ranges(series, num_bins=20):\n",
        "    min_val, max_val = series.min(), series.max()\n",
        "    range_step = (max_val - min_val) / num_bins\n",
        "    ranges = [f\"{min_val + range_step * i:.2f} - {min_val + range_step * (i+1):.2f}\" for i in range(num_bins)]\n",
        "    return ranges\n",
        "\n",
        "for column in df.columns:\n",
        "    unique_values = df[column].unique()\n",
        "\n",
        "    if unique_values.size > 20 and np.issubdtype(df[column].dtype, np.number):\n",
        "            print(f\"Column '{column}' has more than 20 unique numeric values. Creating ranges:\")\n",
        "            print(create_ranges(df[column]))\n",
        "    else:\n",
        "      print(f\"Unique values in '{column}':\")\n",
        "      print(unique_values)\n",
        "    print()"
      ],
      "metadata": {
        "colab": {
          "base_uri": "https://localhost:8080/"
        },
        "id": "LJsRjbfQOpLx",
        "outputId": "d4547592-d7f5-43e7-a984-e163f17cacef"
      },
      "execution_count": 11,
      "outputs": [
        {
          "output_type": "stream",
          "name": "stdout",
          "text": [
            "Column 'Id' has more than 20 unique numeric values. Creating ranges:\n",
            "['1.00 - 73.95', '73.95 - 146.90', '146.90 - 219.85', '219.85 - 292.80', '292.80 - 365.75', '365.75 - 438.70', '438.70 - 511.65', '511.65 - 584.60', '584.60 - 657.55', '657.55 - 730.50', '730.50 - 803.45', '803.45 - 876.40', '876.40 - 949.35', '949.35 - 1022.30', '1022.30 - 1095.25', '1095.25 - 1168.20', '1168.20 - 1241.15', '1241.15 - 1314.10', '1314.10 - 1387.05', '1387.05 - 1460.00']\n",
            "\n",
            "Unique values in 'MSSubClass':\n",
            "[ 60  20  70  50 190  45  90 120  30  85  80 160  75 180  40]\n",
            "\n",
            "Unique values in 'MSZoning':\n",
            "['RL' 'RM' 'C (all)' 'FV' 'RH']\n",
            "\n",
            "Column 'LotFrontage' has more than 20 unique numeric values. Creating ranges:\n",
            "['21.00 - 35.60', '35.60 - 50.20', '50.20 - 64.80', '64.80 - 79.40', '79.40 - 94.00', '94.00 - 108.60', '108.60 - 123.20', '123.20 - 137.80', '137.80 - 152.40', '152.40 - 167.00', '167.00 - 181.60', '181.60 - 196.20', '196.20 - 210.80', '210.80 - 225.40', '225.40 - 240.00', '240.00 - 254.60', '254.60 - 269.20', '269.20 - 283.80', '283.80 - 298.40', '298.40 - 313.00']\n",
            "\n",
            "Column 'LotArea' has more than 20 unique numeric values. Creating ranges:\n",
            "['1300.00 - 11997.25', '11997.25 - 22694.50', '22694.50 - 33391.75', '33391.75 - 44089.00', '44089.00 - 54786.25', '54786.25 - 65483.50', '65483.50 - 76180.75', '76180.75 - 86878.00', '86878.00 - 97575.25', '97575.25 - 108272.50', '108272.50 - 118969.75', '118969.75 - 129667.00', '129667.00 - 140364.25', '140364.25 - 151061.50', '151061.50 - 161758.75', '161758.75 - 172456.00', '172456.00 - 183153.25', '183153.25 - 193850.50', '193850.50 - 204547.75', '204547.75 - 215245.00']\n",
            "\n",
            "Unique values in 'Street':\n",
            "['Pave' 'Grvl']\n",
            "\n",
            "Unique values in 'Alley':\n",
            "[nan 'Grvl' 'Pave']\n",
            "\n",
            "Unique values in 'LotShape':\n",
            "['Reg' 'IR1' 'IR2' 'IR3']\n",
            "\n",
            "Unique values in 'LandContour':\n",
            "['Lvl' 'Bnk' 'Low' 'HLS']\n",
            "\n",
            "Unique values in 'Utilities':\n",
            "['AllPub' 'NoSeWa']\n",
            "\n",
            "Unique values in 'LotConfig':\n",
            "['Inside' 'FR2' 'Corner' 'CulDSac' 'FR3']\n",
            "\n",
            "Unique values in 'LandSlope':\n",
            "['Gtl' 'Mod' 'Sev']\n",
            "\n",
            "Unique values in 'Neighborhood':\n",
            "['CollgCr' 'Veenker' 'Crawfor' 'NoRidge' 'Mitchel' 'Somerst' 'NWAmes'\n",
            " 'OldTown' 'BrkSide' 'Sawyer' 'NridgHt' 'NAmes' 'SawyerW' 'IDOTRR'\n",
            " 'MeadowV' 'Edwards' 'Timber' 'Gilbert' 'StoneBr' 'ClearCr' 'NPkVill'\n",
            " 'Blmngtn' 'BrDale' 'SWISU' 'Blueste']\n",
            "\n",
            "Unique values in 'Condition1':\n",
            "['Norm' 'Feedr' 'PosN' 'Artery' 'RRAe' 'RRNn' 'RRAn' 'PosA' 'RRNe']\n",
            "\n",
            "Unique values in 'Condition2':\n",
            "['Norm' 'Artery' 'RRNn' 'Feedr' 'PosN' 'PosA' 'RRAn' 'RRAe']\n",
            "\n",
            "Unique values in 'BldgType':\n",
            "['1Fam' '2fmCon' 'Duplex' 'TwnhsE' 'Twnhs']\n",
            "\n",
            "Unique values in 'HouseStyle':\n",
            "['2Story' '1Story' '1.5Fin' '1.5Unf' 'SFoyer' 'SLvl' '2.5Unf' '2.5Fin']\n",
            "\n",
            "Unique values in 'OverallQual':\n",
            "[ 7  6  8  5  9  4 10  3  1  2]\n",
            "\n",
            "Unique values in 'OverallCond':\n",
            "[5 8 6 7 4 2 3 9 1]\n",
            "\n",
            "Column 'YearBuilt' has more than 20 unique numeric values. Creating ranges:\n",
            "['1872.00 - 1878.90', '1878.90 - 1885.80', '1885.80 - 1892.70', '1892.70 - 1899.60', '1899.60 - 1906.50', '1906.50 - 1913.40', '1913.40 - 1920.30', '1920.30 - 1927.20', '1927.20 - 1934.10', '1934.10 - 1941.00', '1941.00 - 1947.90', '1947.90 - 1954.80', '1954.80 - 1961.70', '1961.70 - 1968.60', '1968.60 - 1975.50', '1975.50 - 1982.40', '1982.40 - 1989.30', '1989.30 - 1996.20', '1996.20 - 2003.10', '2003.10 - 2010.00']\n",
            "\n",
            "Column 'YearRemodAdd' has more than 20 unique numeric values. Creating ranges:\n",
            "['1950.00 - 1953.00', '1953.00 - 1956.00', '1956.00 - 1959.00', '1959.00 - 1962.00', '1962.00 - 1965.00', '1965.00 - 1968.00', '1968.00 - 1971.00', '1971.00 - 1974.00', '1974.00 - 1977.00', '1977.00 - 1980.00', '1980.00 - 1983.00', '1983.00 - 1986.00', '1986.00 - 1989.00', '1989.00 - 1992.00', '1992.00 - 1995.00', '1995.00 - 1998.00', '1998.00 - 2001.00', '2001.00 - 2004.00', '2004.00 - 2007.00', '2007.00 - 2010.00']\n",
            "\n",
            "Unique values in 'RoofStyle':\n",
            "['Gable' 'Hip' 'Gambrel' 'Mansard' 'Flat' 'Shed']\n",
            "\n",
            "Unique values in 'RoofMatl':\n",
            "['CompShg' 'WdShngl' 'Metal' 'WdShake' 'Membran' 'Tar&Grv' 'Roll'\n",
            " 'ClyTile']\n",
            "\n",
            "Unique values in 'Exterior1st':\n",
            "['VinylSd' 'MetalSd' 'Wd Sdng' 'HdBoard' 'BrkFace' 'WdShing' 'CemntBd'\n",
            " 'Plywood' 'AsbShng' 'Stucco' 'BrkComm' 'AsphShn' 'Stone' 'ImStucc'\n",
            " 'CBlock']\n",
            "\n",
            "Unique values in 'Exterior2nd':\n",
            "['VinylSd' 'MetalSd' 'Wd Shng' 'HdBoard' 'Plywood' 'Wd Sdng' 'CmentBd'\n",
            " 'BrkFace' 'Stucco' 'AsbShng' 'Brk Cmn' 'ImStucc' 'AsphShn' 'Stone'\n",
            " 'Other' 'CBlock']\n",
            "\n",
            "Unique values in 'MasVnrType':\n",
            "['BrkFace' 'None' 'Stone' 'BrkCmn' nan]\n",
            "\n",
            "Column 'MasVnrArea' has more than 20 unique numeric values. Creating ranges:\n",
            "['0.00 - 80.00', '80.00 - 160.00', '160.00 - 240.00', '240.00 - 320.00', '320.00 - 400.00', '400.00 - 480.00', '480.00 - 560.00', '560.00 - 640.00', '640.00 - 720.00', '720.00 - 800.00', '800.00 - 880.00', '880.00 - 960.00', '960.00 - 1040.00', '1040.00 - 1120.00', '1120.00 - 1200.00', '1200.00 - 1280.00', '1280.00 - 1360.00', '1360.00 - 1440.00', '1440.00 - 1520.00', '1520.00 - 1600.00']\n",
            "\n",
            "Unique values in 'ExterQual':\n",
            "['Gd' 'TA' 'Ex' 'Fa']\n",
            "\n",
            "Unique values in 'ExterCond':\n",
            "['TA' 'Gd' 'Fa' 'Po' 'Ex']\n",
            "\n",
            "Unique values in 'Foundation':\n",
            "['PConc' 'CBlock' 'BrkTil' 'Wood' 'Slab' 'Stone']\n",
            "\n",
            "Unique values in 'BsmtQual':\n",
            "['Gd' 'TA' 'Ex' nan 'Fa']\n",
            "\n",
            "Unique values in 'BsmtCond':\n",
            "['TA' 'Gd' nan 'Fa' 'Po']\n",
            "\n",
            "Unique values in 'BsmtExposure':\n",
            "['No' 'Gd' 'Mn' 'Av' nan]\n",
            "\n",
            "Unique values in 'BsmtFinType1':\n",
            "['GLQ' 'ALQ' 'Unf' 'Rec' 'BLQ' nan 'LwQ']\n",
            "\n",
            "Column 'BsmtFinSF1' has more than 20 unique numeric values. Creating ranges:\n",
            "['0.00 - 282.20', '282.20 - 564.40', '564.40 - 846.60', '846.60 - 1128.80', '1128.80 - 1411.00', '1411.00 - 1693.20', '1693.20 - 1975.40', '1975.40 - 2257.60', '2257.60 - 2539.80', '2539.80 - 2822.00', '2822.00 - 3104.20', '3104.20 - 3386.40', '3386.40 - 3668.60', '3668.60 - 3950.80', '3950.80 - 4233.00', '4233.00 - 4515.20', '4515.20 - 4797.40', '4797.40 - 5079.60', '5079.60 - 5361.80', '5361.80 - 5644.00']\n",
            "\n",
            "Unique values in 'BsmtFinType2':\n",
            "['Unf' 'BLQ' nan 'ALQ' 'Rec' 'LwQ' 'GLQ']\n",
            "\n",
            "Column 'BsmtFinSF2' has more than 20 unique numeric values. Creating ranges:\n",
            "['0.00 - 73.70', '73.70 - 147.40', '147.40 - 221.10', '221.10 - 294.80', '294.80 - 368.50', '368.50 - 442.20', '442.20 - 515.90', '515.90 - 589.60', '589.60 - 663.30', '663.30 - 737.00', '737.00 - 810.70', '810.70 - 884.40', '884.40 - 958.10', '958.10 - 1031.80', '1031.80 - 1105.50', '1105.50 - 1179.20', '1179.20 - 1252.90', '1252.90 - 1326.60', '1326.60 - 1400.30', '1400.30 - 1474.00']\n",
            "\n",
            "Column 'BsmtUnfSF' has more than 20 unique numeric values. Creating ranges:\n",
            "['0.00 - 116.80', '116.80 - 233.60', '233.60 - 350.40', '350.40 - 467.20', '467.20 - 584.00', '584.00 - 700.80', '700.80 - 817.60', '817.60 - 934.40', '934.40 - 1051.20', '1051.20 - 1168.00', '1168.00 - 1284.80', '1284.80 - 1401.60', '1401.60 - 1518.40', '1518.40 - 1635.20', '1635.20 - 1752.00', '1752.00 - 1868.80', '1868.80 - 1985.60', '1985.60 - 2102.40', '2102.40 - 2219.20', '2219.20 - 2336.00']\n",
            "\n",
            "Column 'TotalBsmtSF' has more than 20 unique numeric values. Creating ranges:\n",
            "['0.00 - 305.50', '305.50 - 611.00', '611.00 - 916.50', '916.50 - 1222.00', '1222.00 - 1527.50', '1527.50 - 1833.00', '1833.00 - 2138.50', '2138.50 - 2444.00', '2444.00 - 2749.50', '2749.50 - 3055.00', '3055.00 - 3360.50', '3360.50 - 3666.00', '3666.00 - 3971.50', '3971.50 - 4277.00', '4277.00 - 4582.50', '4582.50 - 4888.00', '4888.00 - 5193.50', '5193.50 - 5499.00', '5499.00 - 5804.50', '5804.50 - 6110.00']\n",
            "\n",
            "Unique values in 'Heating':\n",
            "['GasA' 'GasW' 'Grav' 'Wall' 'OthW' 'Floor']\n",
            "\n",
            "Unique values in 'HeatingQC':\n",
            "['Ex' 'Gd' 'TA' 'Fa' 'Po']\n",
            "\n",
            "Unique values in 'CentralAir':\n",
            "['Y' 'N']\n",
            "\n",
            "Unique values in 'Electrical':\n",
            "['SBrkr' 'FuseF' 'FuseA' 'FuseP' 'Mix' nan]\n",
            "\n",
            "Column '1stFlrSF' has more than 20 unique numeric values. Creating ranges:\n",
            "['334.00 - 551.90', '551.90 - 769.80', '769.80 - 987.70', '987.70 - 1205.60', '1205.60 - 1423.50', '1423.50 - 1641.40', '1641.40 - 1859.30', '1859.30 - 2077.20', '2077.20 - 2295.10', '2295.10 - 2513.00', '2513.00 - 2730.90', '2730.90 - 2948.80', '2948.80 - 3166.70', '3166.70 - 3384.60', '3384.60 - 3602.50', '3602.50 - 3820.40', '3820.40 - 4038.30', '4038.30 - 4256.20', '4256.20 - 4474.10', '4474.10 - 4692.00']\n",
            "\n",
            "Column '2ndFlrSF' has more than 20 unique numeric values. Creating ranges:\n",
            "['0.00 - 103.25', '103.25 - 206.50', '206.50 - 309.75', '309.75 - 413.00', '413.00 - 516.25', '516.25 - 619.50', '619.50 - 722.75', '722.75 - 826.00', '826.00 - 929.25', '929.25 - 1032.50', '1032.50 - 1135.75', '1135.75 - 1239.00', '1239.00 - 1342.25', '1342.25 - 1445.50', '1445.50 - 1548.75', '1548.75 - 1652.00', '1652.00 - 1755.25', '1755.25 - 1858.50', '1858.50 - 1961.75', '1961.75 - 2065.00']\n",
            "\n",
            "Column 'LowQualFinSF' has more than 20 unique numeric values. Creating ranges:\n",
            "['0.00 - 28.60', '28.60 - 57.20', '57.20 - 85.80', '85.80 - 114.40', '114.40 - 143.00', '143.00 - 171.60', '171.60 - 200.20', '200.20 - 228.80', '228.80 - 257.40', '257.40 - 286.00', '286.00 - 314.60', '314.60 - 343.20', '343.20 - 371.80', '371.80 - 400.40', '400.40 - 429.00', '429.00 - 457.60', '457.60 - 486.20', '486.20 - 514.80', '514.80 - 543.40', '543.40 - 572.00']\n",
            "\n",
            "Column 'GrLivArea' has more than 20 unique numeric values. Creating ranges:\n",
            "['334.00 - 599.40', '599.40 - 864.80', '864.80 - 1130.20', '1130.20 - 1395.60', '1395.60 - 1661.00', '1661.00 - 1926.40', '1926.40 - 2191.80', '2191.80 - 2457.20', '2457.20 - 2722.60', '2722.60 - 2988.00', '2988.00 - 3253.40', '3253.40 - 3518.80', '3518.80 - 3784.20', '3784.20 - 4049.60', '4049.60 - 4315.00', '4315.00 - 4580.40', '4580.40 - 4845.80', '4845.80 - 5111.20', '5111.20 - 5376.60', '5376.60 - 5642.00']\n",
            "\n",
            "Unique values in 'BsmtFullBath':\n",
            "[1 0 2 3]\n",
            "\n",
            "Unique values in 'BsmtHalfBath':\n",
            "[0 1 2]\n",
            "\n",
            "Unique values in 'FullBath':\n",
            "[2 1 3 0]\n",
            "\n",
            "Unique values in 'HalfBath':\n",
            "[1 0 2]\n",
            "\n",
            "Unique values in 'BedroomAbvGr':\n",
            "[3 4 1 2 0 5 6 8]\n",
            "\n",
            "Unique values in 'KitchenAbvGr':\n",
            "[1 2 3 0]\n",
            "\n",
            "Unique values in 'KitchenQual':\n",
            "['Gd' 'TA' 'Ex' 'Fa']\n",
            "\n",
            "Unique values in 'TotRmsAbvGrd':\n",
            "[ 8  6  7  9  5 11  4 10 12  3  2 14]\n",
            "\n",
            "Unique values in 'Functional':\n",
            "['Typ' 'Min1' 'Maj1' 'Min2' 'Mod' 'Maj2' 'Sev']\n",
            "\n",
            "Unique values in 'Fireplaces':\n",
            "[0 1 2 3]\n",
            "\n",
            "Unique values in 'FireplaceQu':\n",
            "[nan 'TA' 'Gd' 'Fa' 'Ex' 'Po']\n",
            "\n",
            "Unique values in 'GarageType':\n",
            "['Attchd' 'Detchd' 'BuiltIn' 'CarPort' nan 'Basment' '2Types']\n",
            "\n",
            "Column 'GarageYrBlt' has more than 20 unique numeric values. Creating ranges:\n",
            "['1900.00 - 1905.50', '1905.50 - 1911.00', '1911.00 - 1916.50', '1916.50 - 1922.00', '1922.00 - 1927.50', '1927.50 - 1933.00', '1933.00 - 1938.50', '1938.50 - 1944.00', '1944.00 - 1949.50', '1949.50 - 1955.00', '1955.00 - 1960.50', '1960.50 - 1966.00', '1966.00 - 1971.50', '1971.50 - 1977.00', '1977.00 - 1982.50', '1982.50 - 1988.00', '1988.00 - 1993.50', '1993.50 - 1999.00', '1999.00 - 2004.50', '2004.50 - 2010.00']\n",
            "\n",
            "Unique values in 'GarageFinish':\n",
            "['RFn' 'Unf' 'Fin' nan]\n",
            "\n",
            "Unique values in 'GarageCars':\n",
            "[2 3 1 0 4]\n",
            "\n",
            "Column 'GarageArea' has more than 20 unique numeric values. Creating ranges:\n",
            "['0.00 - 70.90', '70.90 - 141.80', '141.80 - 212.70', '212.70 - 283.60', '283.60 - 354.50', '354.50 - 425.40', '425.40 - 496.30', '496.30 - 567.20', '567.20 - 638.10', '638.10 - 709.00', '709.00 - 779.90', '779.90 - 850.80', '850.80 - 921.70', '921.70 - 992.60', '992.60 - 1063.50', '1063.50 - 1134.40', '1134.40 - 1205.30', '1205.30 - 1276.20', '1276.20 - 1347.10', '1347.10 - 1418.00']\n",
            "\n",
            "Unique values in 'GarageQual':\n",
            "['TA' 'Fa' 'Gd' nan 'Ex' 'Po']\n",
            "\n",
            "Unique values in 'GarageCond':\n",
            "['TA' 'Fa' nan 'Gd' 'Po' 'Ex']\n",
            "\n",
            "Unique values in 'PavedDrive':\n",
            "['Y' 'N' 'P']\n",
            "\n",
            "Column 'WoodDeckSF' has more than 20 unique numeric values. Creating ranges:\n",
            "['0.00 - 42.85', '42.85 - 85.70', '85.70 - 128.55', '128.55 - 171.40', '171.40 - 214.25', '214.25 - 257.10', '257.10 - 299.95', '299.95 - 342.80', '342.80 - 385.65', '385.65 - 428.50', '428.50 - 471.35', '471.35 - 514.20', '514.20 - 557.05', '557.05 - 599.90', '599.90 - 642.75', '642.75 - 685.60', '685.60 - 728.45', '728.45 - 771.30', '771.30 - 814.15', '814.15 - 857.00']\n",
            "\n",
            "Column 'OpenPorchSF' has more than 20 unique numeric values. Creating ranges:\n",
            "['0.00 - 27.35', '27.35 - 54.70', '54.70 - 82.05', '82.05 - 109.40', '109.40 - 136.75', '136.75 - 164.10', '164.10 - 191.45', '191.45 - 218.80', '218.80 - 246.15', '246.15 - 273.50', '273.50 - 300.85', '300.85 - 328.20', '328.20 - 355.55', '355.55 - 382.90', '382.90 - 410.25', '410.25 - 437.60', '437.60 - 464.95', '464.95 - 492.30', '492.30 - 519.65', '519.65 - 547.00']\n",
            "\n",
            "Column 'EnclosedPorch' has more than 20 unique numeric values. Creating ranges:\n",
            "['0.00 - 27.60', '27.60 - 55.20', '55.20 - 82.80', '82.80 - 110.40', '110.40 - 138.00', '138.00 - 165.60', '165.60 - 193.20', '193.20 - 220.80', '220.80 - 248.40', '248.40 - 276.00', '276.00 - 303.60', '303.60 - 331.20', '331.20 - 358.80', '358.80 - 386.40', '386.40 - 414.00', '414.00 - 441.60', '441.60 - 469.20', '469.20 - 496.80', '496.80 - 524.40', '524.40 - 552.00']\n",
            "\n",
            "Unique values in '3SsnPorch':\n",
            "[  0 320 407 130 180 168 140 508 238 245 196 144 182 162  23 216  96 153\n",
            " 290 304]\n",
            "\n",
            "Column 'ScreenPorch' has more than 20 unique numeric values. Creating ranges:\n",
            "['0.00 - 24.00', '24.00 - 48.00', '48.00 - 72.00', '72.00 - 96.00', '96.00 - 120.00', '120.00 - 144.00', '144.00 - 168.00', '168.00 - 192.00', '192.00 - 216.00', '216.00 - 240.00', '240.00 - 264.00', '264.00 - 288.00', '288.00 - 312.00', '312.00 - 336.00', '336.00 - 360.00', '360.00 - 384.00', '384.00 - 408.00', '408.00 - 432.00', '432.00 - 456.00', '456.00 - 480.00']\n",
            "\n",
            "Unique values in 'PoolArea':\n",
            "[  0 512 648 576 555 480 519 738]\n",
            "\n",
            "Unique values in 'PoolQC':\n",
            "[nan 'Ex' 'Fa' 'Gd']\n",
            "\n",
            "Unique values in 'Fence':\n",
            "[nan 'MnPrv' 'GdWo' 'GdPrv' 'MnWw']\n",
            "\n",
            "Unique values in 'MiscFeature':\n",
            "[nan 'Shed' 'Gar2' 'Othr' 'TenC']\n",
            "\n",
            "Column 'MiscVal' has more than 20 unique numeric values. Creating ranges:\n",
            "['0.00 - 775.00', '775.00 - 1550.00', '1550.00 - 2325.00', '2325.00 - 3100.00', '3100.00 - 3875.00', '3875.00 - 4650.00', '4650.00 - 5425.00', '5425.00 - 6200.00', '6200.00 - 6975.00', '6975.00 - 7750.00', '7750.00 - 8525.00', '8525.00 - 9300.00', '9300.00 - 10075.00', '10075.00 - 10850.00', '10850.00 - 11625.00', '11625.00 - 12400.00', '12400.00 - 13175.00', '13175.00 - 13950.00', '13950.00 - 14725.00', '14725.00 - 15500.00']\n",
            "\n",
            "Unique values in 'MoSold':\n",
            "[ 2  5  9 12 10  8 11  4  1  7  3  6]\n",
            "\n",
            "Unique values in 'YrSold':\n",
            "[2008 2007 2006 2009 2010]\n",
            "\n",
            "Unique values in 'SaleType':\n",
            "['WD' 'New' 'COD' 'ConLD' 'ConLI' 'CWD' 'ConLw' 'Con' 'Oth']\n",
            "\n",
            "Unique values in 'SaleCondition':\n",
            "['Normal' 'Abnorml' 'Partial' 'AdjLand' 'Alloca' 'Family']\n",
            "\n",
            "Column 'SalePrice' has more than 20 unique numeric values. Creating ranges:\n",
            "['34900.00 - 70905.00', '70905.00 - 106910.00', '106910.00 - 142915.00', '142915.00 - 178920.00', '178920.00 - 214925.00', '214925.00 - 250930.00', '250930.00 - 286935.00', '286935.00 - 322940.00', '322940.00 - 358945.00', '358945.00 - 394950.00', '394950.00 - 430955.00', '430955.00 - 466960.00', '466960.00 - 502965.00', '502965.00 - 538970.00', '538970.00 - 574975.00', '574975.00 - 610980.00', '610980.00 - 646985.00', '646985.00 - 682990.00', '682990.00 - 718995.00', '718995.00 - 755000.00']\n",
            "\n"
          ]
        }
      ]
    },
    {
      "cell_type": "markdown",
      "source": [
        "### Plot feature bondaries"
      ],
      "metadata": {
        "id": "16eNG8YcOp1B"
      }
    },
    {
      "cell_type": "code",
      "source": [],
      "metadata": {
        "id": "QiNJmrnROtFd"
      },
      "execution_count": null,
      "outputs": []
    }
  ]
}